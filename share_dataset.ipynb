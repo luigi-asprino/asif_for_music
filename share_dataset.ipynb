{
 "cells": [
  {
   "cell_type": "code",
   "execution_count": 1,
   "metadata": {},
   "outputs": [
    {
     "name": "stderr",
     "output_type": "stream",
     "text": [
      "/home/luigi/anaconda3/envs/chocolm/lib/python3.12/site-packages/tqdm/auto.py:21: TqdmWarning: IProgress not found. Please update jupyter and ipywidgets. See https://ipywidgets.readthedocs.io/en/stable/user_install.html\n",
      "  from .autonotebook import tqdm as notebook_tqdm\n"
     ]
    }
   ],
   "source": [
    "from datasets import Dataset\n",
    "import pickle"
   ]
  },
  {
   "cell_type": "code",
   "execution_count": 2,
   "metadata": {},
   "outputs": [],
   "source": [
    "harte_songs = pickle.load(open(\"harte_shongs.pkl\", \"rb\"))"
   ]
  },
  {
   "cell_type": "code",
   "execution_count": 3,
   "metadata": {},
   "outputs": [],
   "source": [
    "artist_name = [str(s[\"artist_name\"]) for s in harte_songs]\n",
    "song_name = [str(s[\"song_name\"]) for s in harte_songs]\n",
    "verse_to_harte_chords = [str(s[\"verse_to_harte_chords\"]) for s in harte_songs]\n",
    "verse_to_harte_lyrics = [s[\"lyrics\"] for s in harte_songs]"
   ]
  },
  {
   "cell_type": "code",
   "execution_count": 4,
   "metadata": {},
   "outputs": [],
   "source": [
    "dataset_dict = {\n",
    "    \"artist_name\": artist_name,\n",
    "    \"song_name\": song_name,\n",
    "    \"verse_to_harte_chords\": verse_to_harte_chords,\n",
    "    \"verse_to_lyrics\": verse_to_harte_lyrics\n",
    "}"
   ]
  },
  {
   "cell_type": "code",
   "execution_count": 5,
   "metadata": {},
   "outputs": [],
   "source": [
    "ds = Dataset.from_dict(dataset_dict)"
   ]
  },
  {
   "cell_type": "code",
   "execution_count": 6,
   "metadata": {},
   "outputs": [
    {
     "name": "stderr",
     "output_type": "stream",
     "text": [
      "Creating parquet from Arrow format: 100%|██████████| 136/136 [00:00<00:00, 226.82ba/s]\n",
      "Uploading the dataset shards: 100%|██████████| 1/1 [00:08<00:00,  8.90s/it]\n"
     ]
    },
    {
     "data": {
      "text/plain": [
       "CommitInfo(commit_url='https://huggingface.co/datasets/jammai/chords_and_lyrics/commit/1044afa78603a0ac47c8b7f2673eb012dac50fe7', commit_message='Upload dataset', commit_description='', oid='1044afa78603a0ac47c8b7f2673eb012dac50fe7', pr_url=None, repo_url=RepoUrl('https://huggingface.co/datasets/jammai/chords_and_lyrics', endpoint='https://huggingface.co', repo_type='dataset', repo_id='jammai/chords_and_lyrics'), pr_revision=None, pr_num=None)"
      ]
     },
     "execution_count": 6,
     "metadata": {},
     "output_type": "execute_result"
    }
   ],
   "source": [
    "ds.push_to_hub(\"jammai/chords_and_lyrics\")"
   ]
  }
 ],
 "metadata": {
  "kernelspec": {
   "display_name": "chocolm",
   "language": "python",
   "name": "python3"
  },
  "language_info": {
   "codemirror_mode": {
    "name": "ipython",
    "version": 3
   },
   "file_extension": ".py",
   "mimetype": "text/x-python",
   "name": "python",
   "nbconvert_exporter": "python",
   "pygments_lexer": "ipython3",
   "version": "3.12.7"
  }
 },
 "nbformat": 4,
 "nbformat_minor": 2
}
