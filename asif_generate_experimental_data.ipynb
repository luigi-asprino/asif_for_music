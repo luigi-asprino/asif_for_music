{
 "cells": [
  {
   "cell_type": "code",
   "execution_count": 1,
   "metadata": {},
   "outputs": [
    {
     "name": "stderr",
     "output_type": "stream",
     "text": [
      "/home/luigi/anaconda3/envs/chocolm/lib/python3.12/site-packages/tqdm/auto.py:21: TqdmWarning: IProgress not found. Please update jupyter and ipywidgets. See https://ipywidgets.readthedocs.io/en/stable/user_install.html\n",
      "  from .autonotebook import tqdm as notebook_tqdm\n"
     ]
    }
   ],
   "source": [
    "import pickle\n",
    "import torch\n",
    "from tqdm import tqdm\n",
    "from transformers import AutoTokenizer, AutoModel, AutoModelForMaskedLM\n",
    "from datasets import load_dataset\n",
    "from torch.utils.data import DataLoader"
   ]
  },
  {
   "cell_type": "code",
   "execution_count": 2,
   "metadata": {},
   "outputs": [
    {
     "name": "stderr",
     "output_type": "stream",
     "text": [
      "You are attempting to use Flash Attention 2.0 with a model not initialized on GPU. Make sure to move the model to GPU after initializing it on CPU with `model.to('cuda')`.\n"
     ]
    },
    {
     "data": {
      "text/plain": [
       "XLMRobertaModel(\n",
       "  (embeddings): XLMRobertaEmbeddings(\n",
       "    (word_embeddings): Embedding(250002, 768, padding_idx=1)\n",
       "    (position_embeddings): Embedding(514, 768, padding_idx=1)\n",
       "    (token_type_embeddings): Embedding(1, 768)\n",
       "    (LayerNorm): LayerNorm((768,), eps=1e-05, elementwise_affine=True)\n",
       "    (dropout): Dropout(p=0.1, inplace=False)\n",
       "  )\n",
       "  (encoder): XLMRobertaEncoder(\n",
       "    (layer): ModuleList(\n",
       "      (0-11): 12 x XLMRobertaLayer(\n",
       "        (attention): XLMRobertaAttention(\n",
       "          (self): XLMRobertaSelfAttention(\n",
       "            (query): Linear(in_features=768, out_features=768, bias=True)\n",
       "            (key): Linear(in_features=768, out_features=768, bias=True)\n",
       "            (value): Linear(in_features=768, out_features=768, bias=True)\n",
       "            (dropout): Dropout(p=0.1, inplace=False)\n",
       "          )\n",
       "          (output): XLMRobertaSelfOutput(\n",
       "            (dense): Linear(in_features=768, out_features=768, bias=True)\n",
       "            (LayerNorm): LayerNorm((768,), eps=1e-05, elementwise_affine=True)\n",
       "            (dropout): Dropout(p=0.1, inplace=False)\n",
       "          )\n",
       "        )\n",
       "        (intermediate): XLMRobertaIntermediate(\n",
       "          (dense): Linear(in_features=768, out_features=3072, bias=True)\n",
       "          (intermediate_act_fn): GELUActivation()\n",
       "        )\n",
       "        (output): XLMRobertaOutput(\n",
       "          (dense): Linear(in_features=3072, out_features=768, bias=True)\n",
       "          (LayerNorm): LayerNorm((768,), eps=1e-05, elementwise_affine=True)\n",
       "          (dropout): Dropout(p=0.1, inplace=False)\n",
       "        )\n",
       "      )\n",
       "    )\n",
       "  )\n",
       "  (pooler): XLMRobertaPooler(\n",
       "    (dense): Linear(in_features=768, out_features=768, bias=True)\n",
       "    (activation): Tanh()\n",
       "  )\n",
       ")"
      ]
     },
     "execution_count": 2,
     "metadata": {},
     "output_type": "execute_result"
    }
   ],
   "source": [
    "device = torch.device('cuda')\n",
    "\n",
    "chord_tokenizer = AutoTokenizer.from_pretrained(\"jammai/chocolm-modernbert-base\")\n",
    "chord_model = AutoModel.from_pretrained(\"jammai/chocolm-modernbert-base\")\n",
    "chord_model.to(device)\n",
    "\n",
    "#text_tokenizer = AutoTokenizer.from_pretrained(\"neavo/modern_bert_multilingual\")\n",
    "#text_model = AutoModel.from_pretrained(\"neavo/modern_bert_multilingual\")\n",
    "text_tokenizer = AutoTokenizer.from_pretrained('xlm-roberta-base')\n",
    "text_model = AutoModel.from_pretrained(\"xlm-roberta-base\", attn_implementation=\"eager\")\n",
    "text_model.to(device)"
   ]
  },
  {
   "cell_type": "code",
   "execution_count": 3,
   "metadata": {},
   "outputs": [],
   "source": [
    "chords_lyrics = load_dataset(\"jammai/chords_and_lyrics\")"
   ]
  },
  {
   "cell_type": "code",
   "execution_count": 7,
   "metadata": {},
   "outputs": [],
   "source": [
    "def extract_text_chords_pairs(dataset):\n",
    "    result_chords = []\n",
    "    result_lyrics = []\n",
    "    for song in tqdm(dataset):\n",
    "        lyrics = eval(song[\"verse_to_lyrics\"])\n",
    "        chords = eval(song[\"verse_to_harte_chords\"])\n",
    "        for verse in chords:\n",
    "            if verse + 1 in lyrics and len(lyrics[verse + 1].rstrip()):\n",
    "                result_chords.append(\" \".join(chords[verse]))\n",
    "                result_lyrics.append(lyrics[verse + 1])\n",
    "    return result_lyrics, result_chords\n",
    "\n",
    "\n",
    "def compute_embeddings_ls_hs(data_loader, tokenizer, model):\n",
    "    embeddings_ls, embeddings_hs = [], []\n",
    "    with torch.no_grad():\n",
    "        for batch in tqdm(data_loader):\n",
    "            ls, hs = compute_embedding(tokenizer, model, batch, output_embending_from_hidden_states=True)\n",
    "            embeddings_ls.append(ls)\n",
    "            embeddings_hs.append(hs)\n",
    "    return embeddings_ls, embeddings_hs\n",
    "\n",
    "\n",
    "def apply_attention(attention_mask, model_state):\n",
    "    \n",
    "    #return torch.vstack([\n",
    "    #        (model_state[i][torch.nonzero(attention_mask[i])]).transpose(0,1).sum(dim=1)\n",
    "    #        for i in range(len(model_state))]\n",
    "    #    )\n",
    "    return torch.diagonal(attention_mask.to(torch.float32) @ model_state).transpose(0,1)\n",
    "\n",
    "def compute_embedding(tokenizer, model, input, device=\"cuda\", output_embending_from_hidden_states=False):\n",
    "    \n",
    "    tokenized = tokenizer(input, return_tensors=\"pt\", padding=True)\n",
    "    tokenized = tokenized.to(device)\n",
    "    model_output = model(**tokenized, output_hidden_states=True)\n",
    "\n",
    "    embedding = apply_attention(tokenized.attention_mask, model_output.last_hidden_state)\n",
    "    embedding = embedding.to(\"cpu\")\n",
    "\n",
    "    if output_embending_from_hidden_states:\n",
    "        hidden_states = [\n",
    "            apply_attention(tokenized.attention_mask, model_output.hidden_states[n_layer]).unsqueeze(0) \n",
    "            for n_layer in  range(len(model_output.hidden_states))\n",
    "        ]\n",
    "        hidden_states = torch.vstack(hidden_states).mean(dim = 0)\n",
    "        embedding_hs = hidden_states.to(\"cpu\")\n",
    "    else:\n",
    "        return embedding\n",
    "\n",
    "    return embedding, embedding_hs"
   ]
  },
  {
   "cell_type": "code",
   "execution_count": 10,
   "metadata": {},
   "outputs": [],
   "source": [
    "ds = chords_lyrics[\"train\"].train_test_split(test_size=0.2)"
   ]
  },
  {
   "cell_type": "code",
   "execution_count": 11,
   "metadata": {},
   "outputs": [
    {
     "name": "stderr",
     "output_type": "stream",
     "text": [
      "100%|██████████| 108626/108626 [00:31<00:00, 3404.95it/s]\n",
      "100%|██████████| 27157/27157 [00:08<00:00, 3380.63it/s]\n"
     ]
    }
   ],
   "source": [
    "train_lyrics, train_chords = extract_text_chords_pairs(ds[\"train\"])\n",
    "test_lyrics, test_chords = extract_text_chords_pairs(ds[\"test\"])"
   ]
  },
  {
   "cell_type": "code",
   "execution_count": 12,
   "metadata": {},
   "outputs": [
    {
     "name": "stderr",
     "output_type": "stream",
     "text": [
      "100%|██████████| 10985/10985 [02:09<00:00, 84.93it/s]\n",
      "100%|██████████| 2756/2756 [00:32<00:00, 84.85it/s]\n",
      "100%|██████████| 10985/10985 [14:43<00:00, 12.44it/s]\n",
      "100%|██████████| 2756/2756 [03:42<00:00, 12.39it/s]\n"
     ]
    }
   ],
   "source": [
    "data_loader_train_lyrics = DataLoader(train_lyrics, batch_size=256)\n",
    "data_loader_test_lyrics = DataLoader(test_lyrics, batch_size=256)\n",
    "\n",
    "data_loader_train_chords = DataLoader(train_chords, batch_size=256)\n",
    "data_loader_test_chords = DataLoader(test_chords, batch_size=256)\n",
    "\n",
    "train_chords_embeddings_ls, train_chords_embeddings_hs = compute_embeddings_ls_hs(data_loader_train_chords, chord_tokenizer, chord_model)\n",
    "test_chords_embeddings_ls, test_chords_embeddings_hs = compute_embeddings_ls_hs(data_loader_test_chords, chord_tokenizer, chord_model)\n",
    "\n",
    "train_lyrics_embeddings_ls, train_lyrics_embeddings_hs = compute_embeddings_ls_hs(data_loader_train_lyrics, text_tokenizer, text_model)\n",
    "test_lyrics_embeddings_ls, test_lyrics_embeddings_hs = compute_embeddings_ls_hs(data_loader_test_lyrics, text_tokenizer, text_model)"
   ]
  },
  {
   "cell_type": "code",
   "execution_count": 11,
   "metadata": {},
   "outputs": [],
   "source": [
    "pickle.dump(torch.vstack(train_chords_embeddings_ls), open(\"experimental_data/train_chords_embeddings_ls.pkl\", \"wb\"))\n",
    "pickle.dump(torch.vstack(train_chords_embeddings_hs), open(\"experimental_data/train_chords_embeddings_hs.pkl\", \"wb\"))\n",
    "pickle.dump(torch.vstack(test_chords_embeddings_ls), open(\"experimental_data/test_chords_embeddings_ls.pkl\", \"wb\"))\n",
    "pickle.dump(torch.vstack(test_chords_embeddings_hs), open(\"experimental_data/test_chords_embeddings_hs.pkl\", \"wb\"))\n",
    "\n",
    "pickle.dump(torch.vstack(train_lyrics_embeddings_ls), open(\"experimental_data/train_lyrics_embeddings_ls.pkl\", \"wb\"))\n",
    "pickle.dump(torch.vstack(train_lyrics_embeddings_hs), open(\"experimental_data/train_lyrics_embeddings_hs.pkl\", \"wb\"))\n",
    "pickle.dump(torch.vstack(test_lyrics_embeddings_ls), open(\"experimental_data/test_lyrics_embeddings_ls.pkl\", \"wb\"))\n",
    "pickle.dump(torch.vstack(test_lyrics_embeddings_hs), open(\"experimental_data/test_lyrics_embeddings_hs.pkl\", \"wb\"))\n",
    "\n",
    "pickle.dump(train_lyrics, open(\"experimental_data/train_lyrics.pkl\", \"wb\"))\n",
    "pickle.dump(train_chords, open(\"experimental_data/train_chords.pkl\", \"wb\"))\n",
    "pickle.dump(test_lyrics, open(\"experimental_data/test_lyrics.pkl\", \"wb\"))\n",
    "pickle.dump(test_chords, open(\"experimental_data/test_chords.pkl\", \"wb\"))"
   ]
  }
 ],
 "metadata": {
  "kernelspec": {
   "display_name": "chocolm",
   "language": "python",
   "name": "python3"
  },
  "language_info": {
   "codemirror_mode": {
    "name": "ipython",
    "version": 3
   },
   "file_extension": ".py",
   "mimetype": "text/x-python",
   "name": "python",
   "nbconvert_exporter": "python",
   "pygments_lexer": "ipython3",
   "version": "3.12.7"
  }
 },
 "nbformat": 4,
 "nbformat_minor": 2
}
