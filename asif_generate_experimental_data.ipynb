{
 "cells": [
  {
   "cell_type": "code",
   "execution_count": 10,
   "metadata": {},
   "outputs": [],
   "source": [
    "import pickle\n",
    "import torch\n",
    "from tqdm import tqdm\n",
    "from transformers import AutoTokenizer, AutoModel, AutoModelForMaskedLM\n",
    "from datasets import load_dataset\n",
    "from torch.utils.data import DataLoader\n",
    "from datasets import Dataset\n",
    "from sentence_transformers import SentenceTransformer"
   ]
  },
  {
   "cell_type": "code",
   "execution_count": 2,
   "metadata": {},
   "outputs": [
    {
     "name": "stderr",
     "output_type": "stream",
     "text": [
      "You are attempting to use Flash Attention 2.0 with a model not initialized on GPU. Make sure to move the model to GPU after initializing it on CPU with `model.to('cuda')`.\n"
     ]
    },
    {
     "data": {
      "text/plain": [
       "XLMRobertaModel(\n",
       "  (embeddings): XLMRobertaEmbeddings(\n",
       "    (word_embeddings): Embedding(250002, 768, padding_idx=1)\n",
       "    (position_embeddings): Embedding(514, 768, padding_idx=1)\n",
       "    (token_type_embeddings): Embedding(1, 768)\n",
       "    (LayerNorm): LayerNorm((768,), eps=1e-05, elementwise_affine=True)\n",
       "    (dropout): Dropout(p=0.1, inplace=False)\n",
       "  )\n",
       "  (encoder): XLMRobertaEncoder(\n",
       "    (layer): ModuleList(\n",
       "      (0-11): 12 x XLMRobertaLayer(\n",
       "        (attention): XLMRobertaAttention(\n",
       "          (self): XLMRobertaSelfAttention(\n",
       "            (query): Linear(in_features=768, out_features=768, bias=True)\n",
       "            (key): Linear(in_features=768, out_features=768, bias=True)\n",
       "            (value): Linear(in_features=768, out_features=768, bias=True)\n",
       "            (dropout): Dropout(p=0.1, inplace=False)\n",
       "          )\n",
       "          (output): XLMRobertaSelfOutput(\n",
       "            (dense): Linear(in_features=768, out_features=768, bias=True)\n",
       "            (LayerNorm): LayerNorm((768,), eps=1e-05, elementwise_affine=True)\n",
       "            (dropout): Dropout(p=0.1, inplace=False)\n",
       "          )\n",
       "        )\n",
       "        (intermediate): XLMRobertaIntermediate(\n",
       "          (dense): Linear(in_features=768, out_features=3072, bias=True)\n",
       "          (intermediate_act_fn): GELUActivation()\n",
       "        )\n",
       "        (output): XLMRobertaOutput(\n",
       "          (dense): Linear(in_features=3072, out_features=768, bias=True)\n",
       "          (LayerNorm): LayerNorm((768,), eps=1e-05, elementwise_affine=True)\n",
       "          (dropout): Dropout(p=0.1, inplace=False)\n",
       "        )\n",
       "      )\n",
       "    )\n",
       "  )\n",
       "  (pooler): XLMRobertaPooler(\n",
       "    (dense): Linear(in_features=768, out_features=768, bias=True)\n",
       "    (activation): Tanh()\n",
       "  )\n",
       ")"
      ]
     },
     "execution_count": 2,
     "metadata": {},
     "output_type": "execute_result"
    }
   ],
   "source": [
    "device = torch.device('cuda')\n",
    "\n",
    "chord_tokenizer = AutoTokenizer.from_pretrained(\"jammai/chocolm-modernbert-base\")\n",
    "chord_model = AutoModel.from_pretrained(\"jammai/chocolm-modernbert-base\")\n",
    "chord_model.to(device)\n",
    "\n",
    "text_tokenizer = AutoTokenizer.from_pretrained('xlm-roberta-base')\n",
    "text_model = AutoModel.from_pretrained(\"xlm-roberta-base\", attn_implementation=\"eager\")\n",
    "text_model.to(device)"
   ]
  },
  {
   "cell_type": "code",
   "execution_count": 3,
   "metadata": {},
   "outputs": [],
   "source": [
    "chords_lyrics = load_dataset(\"jammai/chords_and_lyrics\")"
   ]
  },
  {
   "cell_type": "code",
   "execution_count": 7,
   "metadata": {},
   "outputs": [
    {
     "data": {
      "text/plain": [
       "DatasetDict({\n",
       "    train: Dataset({\n",
       "        features: ['artist_name', 'song_name', 'verse_to_harte_chords', 'verse_to_lyrics'],\n",
       "        num_rows: 135783\n",
       "    })\n",
       "})"
      ]
     },
     "execution_count": 7,
     "metadata": {},
     "output_type": "execute_result"
    }
   ],
   "source": [
    "chords_lyrics"
   ]
  },
  {
   "cell_type": "code",
   "execution_count": 8,
   "metadata": {},
   "outputs": [],
   "source": [
    "def extract_text_chords_pairs(dataset):\n",
    "    result_chords = []\n",
    "    result_lyrics = []\n",
    "    artist_song = []\n",
    "    for song in tqdm(dataset):\n",
    "        lyrics = eval(song[\"verse_to_lyrics\"])\n",
    "        chords = eval(song[\"verse_to_harte_chords\"])\n",
    "        for verse in chords:\n",
    "            if verse + 1 in lyrics and len(lyrics[verse + 1].rstrip()):\n",
    "                result_chords.append(\" \".join(chords[verse]))\n",
    "                result_lyrics.append(lyrics[verse + 1])\n",
    "                artist_song.append({\"artist\": song[\"artist_name\"], \"song\": song[\"song_name\"]})\n",
    "    return result_lyrics, result_chords, artist_song\n",
    "\n",
    "\n",
    "def compute_embeddings_ls_hs(data_loader, tokenizer, model):\n",
    "    embeddings_ls, embeddings_hs = [], []\n",
    "    with torch.no_grad():\n",
    "        for batch in tqdm(data_loader):\n",
    "            ls, hs = compute_embedding(tokenizer, model, batch, output_embending_from_hidden_states=True)\n",
    "            embeddings_ls.append(ls)\n",
    "            embeddings_hs.append(hs)\n",
    "    return embeddings_ls, embeddings_hs\n",
    "\n",
    "\n",
    "def apply_attention(attention_mask, model_state):\n",
    "    \n",
    "    #return torch.vstack([\n",
    "    #        (model_state[i][torch.nonzero(attention_mask[i])]).transpose(0,1).sum(dim=1)\n",
    "    #        for i in range(len(model_state))]\n",
    "    #    )\n",
    "    return torch.diagonal( attention_mask.to(torch.float32) @ model_state ).transpose(0,1)\n",
    "\n",
    "def compute_embedding(tokenizer, model, input, device=\"cuda\", output_embending_from_hidden_states=False):\n",
    "    \n",
    "    tokenized = tokenizer(input, return_tensors=\"pt\", padding=True)\n",
    "    tokenized = tokenized.to(device)\n",
    "    model_output = model(**tokenized, output_hidden_states=True)\n",
    "\n",
    "    embedding = apply_attention(tokenized.attention_mask, model_output.last_hidden_state)\n",
    "    embedding = embedding.to(\"cpu\")\n",
    "\n",
    "    if output_embending_from_hidden_states:\n",
    "        hidden_states = [\n",
    "            apply_attention(tokenized.attention_mask, model_output.hidden_states[n_layer]).unsqueeze(0) \n",
    "            for n_layer in  range(len(model_output.hidden_states))\n",
    "        ]\n",
    "        hidden_states = torch.vstack(hidden_states).mean(dim = 0)\n",
    "        embedding_hs = hidden_states.to(\"cpu\")\n",
    "    else:\n",
    "        return embedding\n",
    "\n",
    "    return embedding, embedding_hs"
   ]
  },
  {
   "cell_type": "code",
   "execution_count": 9,
   "metadata": {},
   "outputs": [
    {
     "name": "stderr",
     "output_type": "stream",
     "text": [
      "100%|██████████| 135783/135783 [00:36<00:00, 3728.17it/s]\n"
     ]
    }
   ],
   "source": [
    "lyrics, chords, artist_song = extract_text_chords_pairs(chords_lyrics[\"train\"])"
   ]
  },
  {
   "cell_type": "code",
   "execution_count": 11,
   "metadata": {},
   "outputs": [
    {
     "name": "stderr",
     "output_type": "stream",
     "text": [
      "No sentence-transformers model found with name xlm-roberta-base. Creating a new one with mean pooling.\n",
      "No sentence-transformers model found with name jammai/chocolm-modernbert-base. Creating a new one with mean pooling.\n"
     ]
    }
   ],
   "source": [
    "sbert_roberta_model = SentenceTransformer('xlm-roberta-base')\n",
    "sbert_chocolm_model = SentenceTransformer('jammai/chocolm-modernbert-base')"
   ]
  },
  {
   "cell_type": "code",
   "execution_count": 13,
   "metadata": {},
   "outputs": [
    {
     "name": "stderr",
     "output_type": "stream",
     "text": [
      "Batches: 100%|██████████| 109914/109914 [11:57<00:00, 153.22it/s]\n"
     ]
    }
   ],
   "source": [
    "chords_embeddings_sbert_chocolm = sbert_chocolm_model.encode(chords, show_progress_bar=True)"
   ]
  },
  {
   "cell_type": "code",
   "execution_count": 14,
   "metadata": {},
   "outputs": [
    {
     "name": "stderr",
     "output_type": "stream",
     "text": [
      "Batches: 100%|██████████| 109914/109914 [14:53<00:00, 123.06it/s]\n"
     ]
    }
   ],
   "source": [
    "lyrics_embeddings_sbert_roberta = sbert_roberta_model.encode(lyrics, show_progress_bar=True)"
   ]
  },
  {
   "cell_type": "code",
   "execution_count": 16,
   "metadata": {},
   "outputs": [],
   "source": [
    "chords_embeddings_sbert_chocolm = torch.from_numpy(chords_embeddings_sbert_chocolm)\n",
    "lyrics_embeddings_sbert_roberta = torch.from_numpy(lyrics_embeddings_sbert_roberta)"
   ]
  },
  {
   "cell_type": "code",
   "execution_count": 17,
   "metadata": {},
   "outputs": [],
   "source": [
    "pickle.dump(chords_embeddings_sbert_chocolm, open(\"data/chords_embeddings_sbert_chocolm.pkl\", \"wb\"))\n",
    "pickle.dump(lyrics_embeddings_sbert_roberta, open(\"data/lyrics_embeddings_sbert_roberta.pkl\", \"wb\"))\n",
    "pickle.dump(lyrics, open(\"data/lyrics.pkl\", \"wb\"))\n",
    "pickle.dump(chords, open(\"data/chords.pkl\", \"wb\"))\n",
    "pickle.dump(artist_song, open(\"data/artist_song.pkl\", \"wb\"))"
   ]
  },
  {
   "cell_type": "code",
   "execution_count": 7,
   "metadata": {},
   "outputs": [],
   "source": [
    "ds = chords_lyrics[\"train\"].train_test_split(test_size=0.2)"
   ]
  },
  {
   "cell_type": "code",
   "execution_count": 8,
   "metadata": {},
   "outputs": [
    {
     "name": "stderr",
     "output_type": "stream",
     "text": [
      "100%|██████████| 108626/108626 [00:31<00:00, 3411.72it/s]\n",
      "100%|██████████| 27157/27157 [00:07<00:00, 3397.27it/s]\n"
     ]
    }
   ],
   "source": [
    "train_lyrics, train_chords = extract_text_chords_pairs(ds[\"train\"])\n",
    "test_lyrics, test_chords = extract_text_chords_pairs(ds[\"test\"])"
   ]
  },
  {
   "cell_type": "code",
   "execution_count": 9,
   "metadata": {},
   "outputs": [
    {
     "name": "stderr",
     "output_type": "stream",
     "text": [
      "100%|██████████| 10995/10995 [02:08<00:00, 85.46it/s]\n",
      "100%|██████████| 2745/2745 [00:32<00:00, 85.29it/s]\n",
      "100%|██████████| 10995/10995 [14:44<00:00, 12.43it/s]\n",
      "100%|██████████| 2745/2745 [03:39<00:00, 12.50it/s]\n"
     ]
    }
   ],
   "source": [
    "data_loader_train_lyrics = DataLoader(train_lyrics, batch_size=256)\n",
    "data_loader_test_lyrics = DataLoader(test_lyrics, batch_size=256)\n",
    "\n",
    "data_loader_train_chords = DataLoader(train_chords, batch_size=256)\n",
    "data_loader_test_chords = DataLoader(test_chords, batch_size=256)\n",
    "\n",
    "train_chords_embeddings_ls, train_chords_embeddings_hs = compute_embeddings_ls_hs(data_loader_train_chords, chord_tokenizer, chord_model)\n",
    "test_chords_embeddings_ls, test_chords_embeddings_hs = compute_embeddings_ls_hs(data_loader_test_chords, chord_tokenizer, chord_model)\n",
    "\n",
    "train_lyrics_embeddings_ls, train_lyrics_embeddings_hs = compute_embeddings_ls_hs(data_loader_train_lyrics, text_tokenizer, text_model)\n",
    "test_lyrics_embeddings_ls, test_lyrics_embeddings_hs = compute_embeddings_ls_hs(data_loader_test_lyrics, text_tokenizer, text_model)"
   ]
  },
  {
   "cell_type": "code",
   "execution_count": 10,
   "metadata": {},
   "outputs": [],
   "source": [
    "pickle.dump(torch.vstack(train_chords_embeddings_ls), open(\"experimental_data/embeddings/train_chords_embeddings_ls.pkl\", \"wb\"))\n",
    "pickle.dump(torch.vstack(train_chords_embeddings_hs), open(\"experimental_data/embeddings/train_chords_embeddings_hs.pkl\", \"wb\"))\n",
    "pickle.dump(torch.vstack(test_chords_embeddings_ls), open(\"experimental_data/embeddings/test_chords_embeddings_ls.pkl\", \"wb\"))\n",
    "pickle.dump(torch.vstack(test_chords_embeddings_hs), open(\"experimental_data/embeddings/test_chords_embeddings_hs.pkl\", \"wb\"))\n",
    "\n",
    "pickle.dump(torch.vstack(train_lyrics_embeddings_ls), open(\"experimental_data/embeddings/train_lyrics_embeddings_ls.pkl\", \"wb\"))\n",
    "pickle.dump(torch.vstack(train_lyrics_embeddings_hs), open(\"experimental_data/embeddings/train_lyrics_embeddings_hs.pkl\", \"wb\"))\n",
    "pickle.dump(torch.vstack(test_lyrics_embeddings_ls), open(\"experimental_data/embeddings/test_lyrics_embeddings_ls.pkl\", \"wb\"))\n",
    "pickle.dump(torch.vstack(test_lyrics_embeddings_hs), open(\"experimental_data/embeddings/test_lyrics_embeddings_hs.pkl\", \"wb\"))\n",
    "\n",
    "pickle.dump(train_lyrics, open(\"experimental_data/train_lyrics.pkl\", \"wb\"))\n",
    "pickle.dump(train_chords, open(\"experimental_data/train_chords.pkl\", \"wb\"))\n",
    "pickle.dump(test_lyrics, open(\"experimental_data/test_lyrics.pkl\", \"wb\"))\n",
    "pickle.dump(test_chords, open(\"experimental_data/test_chords.pkl\", \"wb\"))"
   ]
  },
  {
   "cell_type": "code",
   "execution_count": 11,
   "metadata": {},
   "outputs": [],
   "source": [
    "from sentence_transformers import SentenceTransformer\n",
    "model = SentenceTransformer('sentence-transformers/distiluse-base-multilingual-cased-v1')"
   ]
  },
  {
   "cell_type": "code",
   "execution_count": 12,
   "metadata": {},
   "outputs": [
    {
     "name": "stderr",
     "output_type": "stream",
     "text": [
      "Batches: 100%|██████████| 87955/87955 [07:04<00:00, 207.02it/s]\n",
      "Batches: 100%|██████████| 21959/21959 [01:43<00:00, 212.59it/s]\n"
     ]
    }
   ],
   "source": [
    "train_lyrics_sbert_embeddings = model.encode(train_lyrics, show_progress_bar=True)\n",
    "test_lyrics_sbert_embeddings = model.encode(test_lyrics, show_progress_bar=True)"
   ]
  },
  {
   "cell_type": "code",
   "execution_count": 14,
   "metadata": {},
   "outputs": [],
   "source": [
    "train_lyrics_sbert_embeddings = torch.from_numpy(train_lyrics_sbert_embeddings)\n",
    "test_lyrics_sbert_embeddings = torch.from_numpy(test_lyrics_sbert_embeddings)"
   ]
  },
  {
   "cell_type": "code",
   "execution_count": 15,
   "metadata": {},
   "outputs": [],
   "source": [
    "pickle.dump(train_lyrics_sbert_embeddings, open(\"experimental_data/embeddings/train_lyrics_sbert_embeddings.pkl\", \"wb\"))\n",
    "pickle.dump(test_lyrics_sbert_embeddings, open(\"experimental_data/embeddings/test_lyrics_sbert_embeddings.pkl\", \"wb\"))"
   ]
  },
  {
   "cell_type": "code",
   "execution_count": 17,
   "metadata": {},
   "outputs": [
    {
     "name": "stderr",
     "output_type": "stream",
     "text": [
      "No sentence-transformers model found with name xlm-roberta-base. Creating a new one with mean pooling.\n"
     ]
    }
   ],
   "source": [
    "model = SentenceTransformer('xlm-roberta-base')"
   ]
  },
  {
   "cell_type": "code",
   "execution_count": 18,
   "metadata": {},
   "outputs": [
    {
     "name": "stderr",
     "output_type": "stream",
     "text": [
      "Batches: 100%|██████████| 87955/87955 [11:49<00:00, 123.98it/s]\n",
      "Batches: 100%|██████████| 21959/21959 [02:56<00:00, 124.28it/s]\n"
     ]
    }
   ],
   "source": [
    "train_lyrics_roberta_sbert_embeddings = model.encode(train_lyrics, show_progress_bar=True)\n",
    "test_lyrics_roberta_sbert_embeddings = model.encode(test_lyrics, show_progress_bar=True)"
   ]
  },
  {
   "cell_type": "code",
   "execution_count": 19,
   "metadata": {},
   "outputs": [],
   "source": [
    "train_lyrics_roberta_sbert_embeddings = torch.from_numpy(train_lyrics_roberta_sbert_embeddings)\n",
    "test_lyrics_roberta_sbert_embeddings = torch.from_numpy(test_lyrics_roberta_sbert_embeddings)"
   ]
  },
  {
   "cell_type": "code",
   "execution_count": 20,
   "metadata": {},
   "outputs": [],
   "source": [
    "pickle.dump(train_lyrics_roberta_sbert_embeddings, open(\"experimental_data/embeddings/train_lyrics_roberta_sbert_embeddings.pkl\", \"wb\"))\n",
    "pickle.dump(test_lyrics_roberta_sbert_embeddings, open(\"experimental_data/embeddings/test_lyrics_roberta_sbert_embeddings.pkl\", \"wb\"))"
   ]
  },
  {
   "cell_type": "code",
   "execution_count": 21,
   "metadata": {},
   "outputs": [
    {
     "name": "stderr",
     "output_type": "stream",
     "text": [
      "No sentence-transformers model found with name jammai/chocolm-modernbert-base. Creating a new one with mean pooling.\n"
     ]
    }
   ],
   "source": [
    "sbert_chocolm_model = SentenceTransformer('jammai/chocolm-modernbert-base')"
   ]
  },
  {
   "cell_type": "code",
   "execution_count": 23,
   "metadata": {},
   "outputs": [
    {
     "name": "stderr",
     "output_type": "stream",
     "text": [
      "Batches: 100%|██████████| 87955/87955 [10:08<00:00, 144.55it/s]\n",
      "Batches: 100%|██████████| 21959/21959 [02:19<00:00, 157.23it/s]\n"
     ]
    }
   ],
   "source": [
    "sbert_chocolm_train = sbert_chocolm_model.encode(train_chords, show_progress_bar=True)\n",
    "sbert_chocolm_test = sbert_chocolm_model.encode(test_chords, show_progress_bar=True)"
   ]
  },
  {
   "cell_type": "code",
   "execution_count": null,
   "metadata": {},
   "outputs": [
    {
     "ename": "",
     "evalue": "",
     "output_type": "error",
     "traceback": [
      "\u001b[1;31mThe Kernel crashed while executing code in the current cell or a previous cell. \n",
      "\u001b[1;31mPlease review the code in the cell(s) to identify a possible cause of the failure. \n",
      "\u001b[1;31mClick <a href='https://aka.ms/vscodeJupyterKernelCrash'>here</a> for more info. \n",
      "\u001b[1;31mView Jupyter <a href='command:jupyter.viewOutput'>log</a> for further details."
     ]
    }
   ],
   "source": [
    "sbert_chocolm_train = torch.from_numpy(sbert_chocolm_train)\n",
    "sbert_chocolm_test = torch.from_numpy(sbert_chocolm_test)\n",
    "pickle.dump(sbert_chocolm_train, open(\"experimental_data/embeddings/train_chords_chocolm_sbert_embeddings.pkl\", \"wb\"))\n",
    "pickle.dump(sbert_chocolm_test, open(\"experimental_data/embeddings/test_chords_chocolm_sbert_embeddings.pkl\", \"wb\"))"
   ]
  }
 ],
 "metadata": {
  "kernelspec": {
   "display_name": "chocolm",
   "language": "python",
   "name": "python3"
  },
  "language_info": {
   "codemirror_mode": {
    "name": "ipython",
    "version": 3
   },
   "file_extension": ".py",
   "mimetype": "text/x-python",
   "name": "python",
   "nbconvert_exporter": "python",
   "pygments_lexer": "ipython3",
   "version": "3.12.7"
  }
 },
 "nbformat": 4,
 "nbformat_minor": 2
}
